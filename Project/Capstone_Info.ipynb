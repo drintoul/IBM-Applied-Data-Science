{
 "cells": [
  {
   "cell_type": "markdown",
   "metadata": {},
   "source": [
    "# IBM Applied Data Science Capstone Info"
   ]
  },
  {
   "cell_type": "code",
   "execution_count": 1,
   "metadata": {},
   "outputs": [],
   "source": [
    "from IPython.display import IFrame"
   ]
  },
  {
   "cell_type": "markdown",
   "metadata": {},
   "source": [
    "## Capstone Introduction & Business Problem"
   ]
  },
  {
   "cell_type": "markdown",
   "metadata": {},
   "source": [
    "### Instructions"
   ]
  },
  {
   "cell_type": "markdown",
   "metadata": {},
   "source": [
    "> *Clearly define a problem or an idea of your choice, where you would need to leverage the Foursquare location data to solve or execute. Remember that data science problems always target an audience and are meant to help a group of stakeholders solve a problem, so make sure that you explicitly describe your audience and why they would care about your problem.*\n",
    "> \n",
    "> *This submission will eventually become your Introduction/Business Problem section in your final report. So I recommend that you push the report (having your Introduction/Business Problem section only for now) to your Github repository and submit a link to it.*"
   ]
  },
  {
   "cell_type": "markdown",
   "metadata": {},
   "source": [
    "### Introduction"
   ]
  },
  {
   "cell_type": "markdown",
   "metadata": {},
   "source": [
    "On my birthday this year, I decided to eat healthier. A lifetime of cheeseburgers and fries had really packed on the pounds. My wife is a very good, health-conscious cook so Breakfast and Dinner were easy meals to eat healthy. Lunches consisted of going to nearby fast-food restaurants near work. Unfortunately, many of those restaurant menus involved unhealthy choices."
   ]
  },
  {
   "cell_type": "markdown",
   "metadata": {},
   "source": [
    "As part of my search for healthier options, I found CoreLife Foods. CoreLife is a national brand (60+ locations) but only has one location in Florida and I was lucky enough that it is only a few miles from my workplace. Over the past few months, I've averaged dining there once a week. The store manager recognizes me and greets me with friendliness. It's a nice experience and the food is very good."
   ]
  },
  {
   "cell_type": "code",
   "execution_count": 2,
   "metadata": {},
   "outputs": [
    {
     "data": {
      "text/html": [
       "\n",
       "        <iframe\n",
       "            width=\"980\"\n",
       "            height=\"400\"\n",
       "            src=\"https://www.corelifeeatery.com/locations/\"\n",
       "            frameborder=\"0\"\n",
       "            allowfullscreen\n",
       "        ></iframe>\n",
       "        "
      ],
      "text/plain": [
       "<IPython.lib.display.IFrame at 0x17c2206c0f0>"
      ]
     },
     "execution_count": 2,
     "metadata": {},
     "output_type": "execute_result"
    }
   ],
   "source": [
    "IFrame(src='https://www.corelifeeatery.com/locations/', width=980, height=400)"
   ]
  },
  {
   "cell_type": "markdown",
   "metadata": {},
   "source": [
    "### Business Problem"
   ]
  },
  {
   "cell_type": "markdown",
   "metadata": {},
   "source": [
    "During casual conversation with the store manager, he mentioned that they're looking at expanding into other locations in Florida. When I asked about the obvious business center in Florida (Miami, 7th largest metropolitan area in the US, economic center of South Florida), he replied that it \"wasn't their demographic\". It became clear to me that the approach the IBM Applied Data Science course took with regard to using the FourSquare API and clustering might be used to process specific neighborhood demographics. Overall state or even metro area demographics are not granular enough to make a specific new location decision.\n",
    "\n",
    "Since I live in St. Petersburg, I'd like to lobby the store manager to consider opening a location there."
   ]
  },
  {
   "cell_type": "markdown",
   "metadata": {},
   "source": [
    "### Audience for Results"
   ]
  },
  {
   "cell_type": "markdown",
   "metadata": {},
   "source": [
    "The obvious audience for this analysis is the CoreLife store manager but also includes corporate management and other franchisee owners. I'm focusing on St. Petersburg for candidate locations but others in the organization will have other candidate cities.\n",
    "\n",
    "The tool should be built in such a way as to be reusable for other industries seeking to answer the fundamental business question:\n",
    "\n",
    "> Given a successful location, what are some other neighborhoods which might yield similar business results?\n",
    "\n",
    "This statement would be even more impactful if I had access to business results or included extensive cultural, economic and demographic information but because I am not affiliated with the company and because I'd like to showcase my analysis publically as a demonstration of ability on [Tableau Public](https://public.tableau.com/profile/drintoul#!/ \"Tableau Public Link\"), I am only going to include public data sources."
   ]
  },
  {
   "cell_type": "markdown",
   "metadata": {},
   "source": [
    "## Capstone Data"
   ]
  },
  {
   "cell_type": "markdown",
   "metadata": {},
   "source": [
    "### Instructions"
   ]
  },
  {
   "cell_type": "markdown",
   "metadata": {},
   "source": [
    "> *Describe the data that you will be using to solve the problem or execute your idea. Remember that you will need to use the Foursquare location data to solve the problem or execute your idea. You can absolutely use other datasets in combination with the Foursquare location data. So make sure that you provide adequate explanation and discussion, with examples, of the data that you will be using, even if it is only Foursquare location data.*\n",
    "\n",
    "> *This submission will eventually become your Data section in your final report. So I recommend that you push the report (having your Data section) to your Github repository and submit a link to it.*"
   ]
  },
  {
   "cell_type": "markdown",
   "metadata": {},
   "source": [
    "### Approach and Data Sources"
   ]
  },
  {
   "cell_type": "markdown",
   "metadata": {},
   "source": [
    "Knowing that retail banks typically locate in areas close to both business and residential centers, I scraped [US Bank Locations](https://www.usbanklocations.com/ \"US Bank Locations\") and filtered to include only St. Petersburg banks. These will become the candidates for a new CoreLife Foods location."
   ]
  },
  {
   "cell_type": "code",
   "execution_count": 3,
   "metadata": {},
   "outputs": [
    {
     "data": {
      "text/html": [
       "\n",
       "        <iframe\n",
       "            width=\"980\"\n",
       "            height=\"600\"\n",
       "            src=\"https://www.usbanklocations.com/saint-petersburg-banks-fl.htm\"\n",
       "            frameborder=\"0\"\n",
       "            allowfullscreen\n",
       "        ></iframe>\n",
       "        "
      ],
      "text/plain": [
       "<IPython.lib.display.IFrame at 0x17c2206c940>"
      ]
     },
     "execution_count": 3,
     "metadata": {},
     "output_type": "execute_result"
    }
   ],
   "source": [
    "IFrame(src='https://www.usbanklocations.com/saint-petersburg-banks-fl.htm', width=980, height=600)"
   ]
  },
  {
   "cell_type": "markdown",
   "metadata": {},
   "source": [
    "I scraped the addresses from the webpage using the python requests and BeautifulSoup libraries then used geojson to find the latitude and longitude coordinates to be able to call the FourSquare API. See table representing the pandas dataframe below."
   ]
  },
  {
   "cell_type": "markdown",
   "metadata": {},
   "source": [
    "|bank|branch|service|street|city|state|zip|latitude|longitude|\n",
    "---|---|---|---|---|---|---|---|---\n",
    "|Branch Banking and Trust Company|Grand Central|Full Service Brick and Mortar Office|100 34th Street North|Saint Petersburg|FL|33713|**_27.772182_**|**_-82.6799175_**|\n",
    "|Bank of America|Madrid Square|Full Service Brick and Mortar Office|2145 34th Street, North|Saint Petersburg|FL|33713|**_27.79124562_**|**_-82.67937218_**|\n",
    "|Wells Fargo Bank|Mid City|Full Service Brick and Mortar Office|2350 34th Street North|Saint Petersburg|FL|33713|**_27.793022_**|**_-82.67959631_**|\n",
    "|Regions Bank|Mid City|Full Service Brick and Mortar Office|3463 22nd Avenue N.|Saint Petersburg|FL|33713|**_27.79190332_**|**_-82.68063253_**|"
   ]
  },
  {
   "cell_type": "markdown",
   "metadata": {},
   "source": [
    "From the CoreLife Foods webpage, I already know the address of the only Florida location in Tampa."
   ]
  },
  {
   "cell_type": "code",
   "execution_count": 4,
   "metadata": {},
   "outputs": [
    {
     "data": {
      "text/html": [
       "\n",
       "        <iframe\n",
       "            width=\"980\"\n",
       "            height=\"400\"\n",
       "            src=\"https://www.corelifeeatery.com/locations/tampa-fl-carrollwood-2/\"\n",
       "            frameborder=\"0\"\n",
       "            allowfullscreen\n",
       "        ></iframe>\n",
       "        "
      ],
      "text/plain": [
       "<IPython.lib.display.IFrame at 0x17c2206c5f8>"
      ]
     },
     "execution_count": 4,
     "metadata": {},
     "output_type": "execute_result"
    }
   ],
   "source": [
    "IFrame(src='https://www.corelifeeatery.com/locations/tampa-fl-carrollwood-2/', width=980, height=400)"
   ]
  },
  {
   "cell_type": "markdown",
   "metadata": {},
   "source": [
    "I will include the CoreLife Foods location and all of the St. Petersburg bank locations and do a cluster analysis of the information returned from FourSquare. This will give me a visual representation of which neighborhoods are most like the neighborhood where Carrollwood CoreLife is located.\n",
    "\n",
    "I will experiment with different numbers of clusters to see whether getting super granular makes a difference in the candidate location which is found."
   ]
  },
  {
   "cell_type": "markdown",
   "metadata": {},
   "source": [
    "### FourSquare Data"
   ]
  },
  {
   "cell_type": "markdown",
   "metadata": {},
   "source": [
    "In the IBM Applied Data Science coursework, I used a radius of 500 meters and limited number of results to 100. This still seems to be reasonable defaults to get a \"feel\" for a neighborhood."
   ]
  },
  {
   "cell_type": "markdown",
   "metadata": {},
   "source": [
    "Here is the snippet of the json results of a default FourSquare API call:"
   ]
  },
  {
   "cell_type": "markdown",
   "metadata": {},
   "source": [
    "> {'id': '4baf59e8f964a520a6f93be3', 'name': 'Bikram Yoga', 'location': {'address': '5500 Broadway', 'crossStreet': '230th Street', 'lat': 40.876843690797934, 'lng': -73.90620384419528, 'labeledLatLngs': [{'label': 'display', 'lat': 40.876843690797934, 'lng': -73.90620384419528}], 'distance': 376, 'postalCode': '10463', 'cc': 'US', 'city': 'Bronx', 'state': 'NY', 'country': 'United States', 'formattedAddress': ['5500 Broadway (230th Street)', 'Bronx, NY 10463', 'United States']}, 'categories': [{'id': '4bf58dd8d48988d102941735', 'name': 'Yoga Studio', 'pluralName': 'Yoga Studios', 'shortName': 'Yoga Studio', 'icon': {'prefix': 'https://ss3.4sqi.net/img/categories_v2/shops/gym_yogastudio_', 'suffix': '.png'}, 'primary': True}], 'photos': {'count': 0, 'groups': []}}, 'referralId': 'e-0-4baf59e8f964a520a6f93be3-1'}, {'reasons': {'count': 0, 'items': [{'summary': 'This spot is popular', 'type': 'general', 'reasonName': 'globalInteractionReason'}]}"
   ]
  },
  {
   "cell_type": "markdown",
   "metadata": {},
   "source": [
    "From the record, the latitude and longitude can be extracted as well as the name and category of the business."
   ]
  },
  {
   "cell_type": "markdown",
   "metadata": {},
   "source": [
    "|name|categories|lat|lng|\n",
    "---|---|---|---\n",
    "|Arturo's|Pizza Place|40.874412|-73.910271|\n",
    "|Bikram Yoga|Yoga Studio|40.876844|-73.906204|\n",
    "|Tibbett Diner|Diner|40.880404|-73.908937|\n",
    "|Starbucks|Coffee Shop|40.877531|-73.905582|\n",
    "|Blink Fitness Riverdale|Gym|40.877147|-73.905837|"
   ]
  },
  {
   "cell_type": "markdown",
   "metadata": {},
   "source": [
    "For each candidate point, I will call the FourSquare API and return the list of nearby venues. Then I will group the venues per neighborhood and group the most common types of venues per neighborhood. The freq column is a normalized value across all neighborhoods."
   ]
  },
  {
   "cell_type": "markdown",
   "metadata": {},
   "source": [
    "|---|venue|freq|\n",
    "---|---|---\n",
    "|0|Chinese Restaurant|0.09|\n",
    "|1|American Restaurant|0.04|\n",
    "|2|Cocktail Bar|0.04|\n",
    "|3|Vietnamese Restaurant|0.04|\n",
    "|4|Spa|0.03|"
   ]
  },
  {
   "cell_type": "markdown",
   "metadata": {},
   "source": [
    "After One-Hot encoding, I will build a list of neighborhoods and their most common venue category:"
   ]
  },
  {
   "cell_type": "markdown",
   "metadata": {},
   "source": [
    "|Neighborhood|1st Most Common Venue|2nd Most Common Venue|3rd Most Common Venue|4th Most Common Venue|5th Most Common Venue|\n",
    "---|---|---|---|---|---\n",
    "|Battery Park City|Park|Coffee Shop|Hotel|Memorial Site|Gym|\n",
    "|Carnegie Hill|Coffee Shop|Pizza Place|Cosmetics Shop|Bakery|Gym|\n",
    "|Central Harlem|Cosmetics Shop|Art Gallery|Bar|French Restaurant|Seafood Restaurant|\n",
    "|Chelsea|Coffee Shop|Bakery|Italian Restaurant|Ice Cream Shop|Nightclub|\n",
    "|Chinatown|Chinese Restaurant|Cocktail Bar|American Restaurant|Vietnamese Restaurant|Optical Shop|"
   ]
  },
  {
   "cell_type": "markdown",
   "metadata": {},
   "source": [
    "Finally, I will cluster the neighborhoods to determine similarity and map the results, along with a descriptive commentary."
   ]
  }
 ],
 "metadata": {
  "kernelspec": {
   "display_name": "Python 3",
   "language": "python",
   "name": "python3"
  },
  "language_info": {
   "codemirror_mode": {
    "name": "ipython",
    "version": 3
   },
   "file_extension": ".py",
   "mimetype": "text/x-python",
   "name": "python",
   "nbconvert_exporter": "python",
   "pygments_lexer": "ipython3",
   "version": "3.6.9"
  }
 },
 "nbformat": 4,
 "nbformat_minor": 2
}
