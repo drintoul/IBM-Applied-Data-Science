{
 "cells": [
  {
   "cell_type": "code",
   "execution_count": 1,
   "metadata": {},
   "outputs": [],
   "source": [
    "from IPython.display import Image\n",
    "from IPython.core.display import HTML"
   ]
  },
  {
   "cell_type": "markdown",
   "metadata": {},
   "source": [
    "# <span style=\"color:blue\">IBM Applied Data Science Capstone Blogpost</span>"
   ]
  },
  {
   "cell_type": "markdown",
   "metadata": {},
   "source": [
    "*2019-DEC-26*"
   ]
  },
  {
   "cell_type": "markdown",
   "metadata": {},
   "source": [
    "## <span style=\"color:blue\">CoreLife Florida Expansion</span>"
   ]
  },
  {
   "cell_type": "markdown",
   "metadata": {},
   "source": [
    "### <span style=\"color:blue\">About CoreLife</span>"
   ]
  },
  {
   "cell_type": "markdown",
   "metadata": {},
   "source": [
    "[CoreLife Eatery](https://www.corelifeeatery.com/) is a national brand offering healthy eating options in nearly 60 locations, mostly in the Northeast and mid-Atantic regions of the United States.\n",
    "\n",
    "More information about the company can be found [here](https://www.corelifeeatery.com/our-story/) and their specific locations are mapped [here](https://public.tableau.com/profile/drintoul#!/vizhome/CoreLifeNewLocationCandidates/CoreLifeLocations-State)."
   ]
  },
  {
   "cell_type": "markdown",
   "metadata": {},
   "source": [
    "There is one location in Florida located near where I work and the manager is considering opening more locations in the [Sunshine State](https://en.wikipedia.org/wiki/Florida)."
   ]
  },
  {
   "cell_type": "markdown",
   "metadata": {},
   "source": [
    "### <span style=\"color:blue\">Opportunity</span>"
   ]
  },
  {
   "cell_type": "markdown",
   "metadata": {},
   "source": [
    "As with any product or service, there is a specific market in which CoreLife's healthy offerings would be most appealing, leading to business/financial success. The ideal market is difficult to define explicitly as education, ethnic preferences, income and lifestyle are all factors:\n",
    "\n",
    ">[x] Appeal to consumers who make enough money to afford eating at restaurants  \n",
    ">[x] Appeal to consumers who have a taste for flavorful foods (certain ethnicities prefer certain spices or no spices at all)  \n",
    ">[x] Appeal to consumers seeking healthy choices (e.g., low-fat, high protein)  \n",
    ">[x] Appeal to consumers prioritizing quality ingredients over drive-thru or other speedy \"fast food\" options\n",
    "\n",
    "Specifically, perhaps the best market for their offerings is 24-36 year-old college-educated hispanic females earning more than \\\\$60K/year and living in \\\\$250K+ homes. This is completely fabricated as we don't know with this specificity and this area is rich for further exploration beyond the scope of this project.\n",
    "\n",
    "It is quite possible - even probable - that CoreLife will appeal to several demographic clusters making the ideal customer very difficult - if not impossible - to define explicitly."
   ]
  },
  {
   "cell_type": "markdown",
   "metadata": {},
   "source": [
    "### <span style=\"color:blue\">Approach</span>"
   ]
  },
  {
   "cell_type": "markdown",
   "metadata": {},
   "source": [
    "#### <span style=\"color:blue\">Choosing Neighborhoods over Zipcodes</span>"
   ]
  },
  {
   "cell_type": "markdown",
   "metadata": {},
   "source": [
    "As a unit for studying geographic areas, I chose neighborhoods. Neighborhoods are sometimes [fluidly-defined](https://www.sciencedirect.com/science/article/abs/pii/S0094119005000744) but generally there are several per metropolitan area and each neighborhood is characterized by a certain mix of schools, restaurants, parks, etc. Anecdotally they also tend to be clustered in different categories, e.g, families versus retirees, ethnic groups and income levels.\n",
    "\n",
    "Although easy to identify, there are several reasons why [zipcodes are not appropriate](https://towardsdatascience.com/stop-using-zip-codes-for-geospatial-analysis-ceacb6e80c38) for this exercise. The largest zipcode in the United States covers over 10,000 square miles while the smallest occupies only part of a single office building.\n",
    "\n",
    "Obtaining a 'typical' profile would vary substantially depending on the geographical point with the largest zipcode whereas the centroid of a neighborhood is a good approximation for the entire neighborhood if the neighborhood isn't too large. Additionally, zipcodes are not always contiguous and may overlap with other zipcodes making any kind of spatial analysis impossible."
   ]
  },
  {
   "cell_type": "markdown",
   "metadata": {},
   "source": [
    "To generate a list of neighborhood names and locations, I used [Zillows OpenData API](https://data.opendatasoft.com/explore/dataset/zillow-neighborhoods%40public/export/?refine.state=FL). This returned over 2,000 neighborhoods in Florida. There were seven counties with more than 100 named neighborhoods which seemed to be an appropriate starting point for identifying new location candidates.\n",
    "\n",
    "|Rank|County|Description|Neighborhoods|\n",
    "|---|---|---|---|\n",
    "|1|Palm Beach|East Coast, North of Miami|354|\n",
    "|2|Broward|East Coast, North of Miami|304|\n",
    "|3|Pinellas|West Coast, West of Tampa|293|\n",
    "|4|Miami-Dade|East Coast, Greater Miami area|235|\n",
    "|5|Hillsborough|West Coast, Greater Tampa area|149|\n",
    "|6|Duval|East Coast, Greater Jacksonville area|139|\n",
    "|7|Orange|Mid-state, Greater Orlando area|113|"
   ]
  },
  {
   "cell_type": "markdown",
   "metadata": {},
   "source": [
    "To generate demographic information, the geographical coordinates corresponding to the centroid of each neighborhood was passed to the [Geocod.io API](https://www.geocod.io/features/api/) which returned numerous features in JSON format."
   ]
  },
  {
   "cell_type": "markdown",
   "metadata": {},
   "source": [
    "I chose to keep the following features:\n",
    "\n",
    "* percentage of males, females\n",
    "* percentage of veterans (for subsequent promotional opportunities)\n",
    "* percentage of owners versus renters\n",
    "* median home price\n",
    "* percentage of families\n",
    "* median household income\n",
    "* median age\n",
    "* percentage of hispanic, non-hispanic\\*\n",
    "\n",
    "\\* an obvious opportunity for further analysis would be to break down ethnicity into more categories but this split was done for interpretability and simplicity."
   ]
  },
  {
   "cell_type": "markdown",
   "metadata": {},
   "source": [
    "Some of the information returned was clearly missing. For example, neighborhoods where the median age was zero. If any feature for any neighborhood was 0% or 100%, I deemed that as suspicious and excluded it from the dataset."
   ]
  },
  {
   "cell_type": "markdown",
   "metadata": {},
   "source": [
    "The Capstone instructions explicitly required that I use the [FourSquare API](https://developer.foursquare.com/docs/api) which provided neighborhood profiles such as schools, parks and restaurants."
   ]
  },
  {
   "cell_type": "markdown",
   "metadata": {},
   "source": [
    "Combining the demographic and FourSquare data, I normalized each feature to ensure certain features weren't being overweighted due to their range (e.g., median incomes ranging from \\\\$50K - \\\\$1M+ versus 0 or 1 for one-hot encoded male/female)."
   ]
  },
  {
   "cell_type": "markdown",
   "metadata": {},
   "source": [
    "I then used KNN clustering to identify three cluster groups. Three was chosen arbitrarily but after experimenting with different values, it became clear that the existing CoreLife locations were confined to two of the clusters whereas some of the candidates fell in a new cluster."
   ]
  },
  {
   "cell_type": "markdown",
   "metadata": {},
   "source": [
    "### <span style=\"color:blue\">Results</span>"
   ]
  },
  {
   "cell_type": "markdown",
   "metadata": {},
   "source": [
    "#### <span style=\"color:blue\">Tampa-area</span>\n",
    "\n",
    "The Tampa-area candidates all fall in cluster one or two, indicating that any of the locations would be similar to existing locations."
   ]
  },
  {
   "cell_type": "code",
   "execution_count": 9,
   "metadata": {},
   "outputs": [
    {
     "data": {
      "text/html": [
       "<img src=\"https://github.com/drintoul/IBM_Applied_Data_Science/blob/master/Project/Tampa_Bay_Candidates.PNG?raw=true\"/>"
      ],
      "text/plain": [
       "<IPython.core.display.Image object>"
      ]
     },
     "execution_count": 9,
     "metadata": {},
     "output_type": "execute_result"
    }
   ],
   "source": [
    "Image(url = 'https://github.com/drintoul/IBM_Applied_Data_Science/blob/master/Project/Tampa_Bay_Candidates.PNG?raw=true')"
   ]
  },
  {
   "cell_type": "markdown",
   "metadata": {},
   "source": [
    "#### <span style=\"color:blue\">Orlando-area</span>\n",
    "\n",
    "While all three clusters are represented, there are more cluster three locations in the south east region of Orlando. This indicates that stores in this area are dissimilar to existing locations and perhaps not good candidates for expansion."
   ]
  },
  {
   "cell_type": "code",
   "execution_count": 10,
   "metadata": {},
   "outputs": [
    {
     "data": {
      "text/html": [
       "<img src=\"https://github.com/drintoul/IBM_Applied_Data_Science/blob/master/Project/Orlando_Candidates.PNG?raw=true\"/>"
      ],
      "text/plain": [
       "<IPython.core.display.Image object>"
      ]
     },
     "execution_count": 10,
     "metadata": {},
     "output_type": "execute_result"
    }
   ],
   "source": [
    "Image(url = 'https://github.com/drintoul/IBM_Applied_Data_Science/blob/master/Project/Orlando_Candidates.PNG?raw=true')"
   ]
  },
  {
   "cell_type": "markdown",
   "metadata": {},
   "source": [
    "#### <span style=\"color:blue\">Jacksonville-area</span>\n",
    "\n",
    "Similar to Tampa, the Jacksonville-area candidates all fall in cluster one or two, indicating that any of the locations would be similar to existing locations."
   ]
  },
  {
   "cell_type": "code",
   "execution_count": 11,
   "metadata": {},
   "outputs": [
    {
     "data": {
      "text/html": [
       "<img src=\"https://github.com/drintoul/IBM_Applied_Data_Science/blob/master/Project/Jacksonville_Candidates.PNG?raw=true\"/>"
      ],
      "text/plain": [
       "<IPython.core.display.Image object>"
      ]
     },
     "execution_count": 11,
     "metadata": {},
     "output_type": "execute_result"
    }
   ],
   "source": [
    "Image(url = 'https://github.com/drintoul/IBM_Applied_Data_Science/blob/master/Project/Jacksonville_Candidates.PNG?raw=true')"
   ]
  },
  {
   "cell_type": "markdown",
   "metadata": {},
   "source": [
    "#### <span style=\"color:blue\">South Florida area</span>\n",
    "\n",
    "Similar to Orlando, the South Florida area there are more cluster three locations in the south region of South Florida (i.e., Miami area). This indicates that stores in this area are dissimilar to existing locations and perhaps not good candidates for expansion."
   ]
  },
  {
   "cell_type": "code",
   "execution_count": 12,
   "metadata": {},
   "outputs": [
    {
     "data": {
      "text/html": [
       "<img src=\"https://github.com/drintoul/IBM_Applied_Data_Science/blob/master/Project/South_Florida_Candidates.PNG?raw=true\"/>"
      ],
      "text/plain": [
       "<IPython.core.display.Image object>"
      ]
     },
     "execution_count": 12,
     "metadata": {},
     "output_type": "execute_result"
    }
   ],
   "source": [
    "Image(url = 'https://github.com/drintoul/IBM_Applied_Data_Science/blob/master/Project/South_Florida_Candidates.PNG?raw=true')"
   ]
  },
  {
   "cell_type": "markdown",
   "metadata": {},
   "source": [
    "### <span style=\"color:blue\">Going Further</span>"
   ]
  },
  {
   "cell_type": "markdown",
   "metadata": {},
   "source": [
    "To improve the analysis, this demographic and neighborhood characteristic data should be extended to include business statistics. Knowing which neighborhoods correspond to successful versus marginal or even losing franchises would be very important input before making an expansion location decision."
   ]
  },
  {
   "cell_type": "markdown",
   "metadata": {},
   "source": [
    "### <span style=\"color:blue\">Presentation</span>"
   ]
  },
  {
   "cell_type": "markdown",
   "metadata": {},
   "source": [
    "To add interactivity, I built a [Tableau dashboard](https://public.tableau.com/profile/drintoul#!/vizhome/CoreLifeNewLocationCandidates/CoreLifeLocations-State)"
   ]
  }
 ],
 "metadata": {
  "kernelspec": {
   "display_name": "Python 3",
   "language": "python",
   "name": "python3"
  },
  "language_info": {
   "codemirror_mode": {
    "name": "ipython",
    "version": 3
   },
   "file_extension": ".py",
   "mimetype": "text/x-python",
   "name": "python",
   "nbconvert_exporter": "python",
   "pygments_lexer": "ipython3",
   "version": "3.6.9"
  }
 },
 "nbformat": 4,
 "nbformat_minor": 2
}
