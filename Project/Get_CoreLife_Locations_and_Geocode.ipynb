{
 "cells": [
  {
   "cell_type": "markdown",
   "metadata": {},
   "source": [
    "# Get CoreLife Locations & Geocode"
   ]
  },
  {
   "cell_type": "markdown",
   "metadata": {},
   "source": [
    "## Import Libraries"
   ]
  },
  {
   "cell_type": "code",
   "execution_count": 1,
   "metadata": {},
   "outputs": [],
   "source": [
    "import pandas as pd\n",
    "import requests\n",
    "import geopandas as gpd\n",
    "import shapefile\n",
    "from shapely.geometry import Point\n",
    "import numpy as np\n",
    "import re"
   ]
  },
  {
   "cell_type": "markdown",
   "metadata": {},
   "source": [
    "## Import Turn_URL_into_Soup function"
   ]
  },
  {
   "cell_type": "code",
   "execution_count": 2,
   "metadata": {},
   "outputs": [
    {
     "name": "stdout",
     "output_type": "stream",
     "text": [
      "Requirement already satisfied: selenium in c:\\programdata\\anaconda3\\lib\\site-packages (3.141.0)\n",
      "Requirement already satisfied: urllib3 in c:\\programdata\\anaconda3\\lib\\site-packages (from selenium) (1.24.2)\n",
      "Requirement already satisfied: requests in c:\\programdata\\anaconda3\\lib\\site-packages (2.22.0)\n",
      "Requirement already satisfied: idna<2.9,>=2.5 in c:\\programdata\\anaconda3\\lib\\site-packages (from requests) (2.8)\n",
      "Requirement already satisfied: certifi>=2017.4.17 in c:\\programdata\\anaconda3\\lib\\site-packages (from requests) (2019.11.28)\n",
      "Requirement already satisfied: chardet<3.1.0,>=3.0.2 in c:\\programdata\\anaconda3\\lib\\site-packages (from requests) (3.0.4)\n",
      "Requirement already satisfied: urllib3!=1.25.0,!=1.25.1,<1.26,>=1.21.1 in c:\\programdata\\anaconda3\\lib\\site-packages (from requests) (1.24.2)\n",
      "Requirement already satisfied: beautifulsoup4 in c:\\programdata\\anaconda3\\lib\\site-packages (4.8.1)\n",
      "Requirement already satisfied: soupsieve>=1.2 in c:\\programdata\\anaconda3\\lib\\site-packages (from beautifulsoup4) (1.9.3)\n"
     ]
    }
   ],
   "source": [
    "%run \"U:/Projects/Common_Functions/Turn_URL_into_Soup.ipynb\""
   ]
  },
  {
   "cell_type": "markdown",
   "metadata": {},
   "source": [
    "## Import Geocode_Address function"
   ]
  },
  {
   "cell_type": "code",
   "execution_count": 3,
   "metadata": {},
   "outputs": [
    {
     "name": "stdout",
     "output_type": "stream",
     "text": [
      "Requirement already satisfied: geocoder in c:\\programdata\\anaconda3\\lib\\site-packages (1.38.1)\n",
      "Requirement already satisfied: requests in c:\\programdata\\anaconda3\\lib\\site-packages (from geocoder) (2.22.0)\n",
      "Requirement already satisfied: ratelim in c:\\programdata\\anaconda3\\lib\\site-packages (from geocoder) (0.1.6)\n",
      "Requirement already satisfied: click in c:\\programdata\\anaconda3\\lib\\site-packages (from geocoder) (7.0)\n",
      "Requirement already satisfied: future in c:\\programdata\\anaconda3\\lib\\site-packages (from geocoder) (0.17.1)\n",
      "Requirement already satisfied: six in c:\\programdata\\anaconda3\\lib\\site-packages (from geocoder) (1.13.0)\n",
      "Requirement already satisfied: urllib3!=1.25.0,!=1.25.1,<1.26,>=1.21.1 in c:\\programdata\\anaconda3\\lib\\site-packages (from requests->geocoder) (1.24.2)\n",
      "Requirement already satisfied: certifi>=2017.4.17 in c:\\programdata\\anaconda3\\lib\\site-packages (from requests->geocoder) (2019.11.28)\n",
      "Requirement already satisfied: chardet<3.1.0,>=3.0.2 in c:\\programdata\\anaconda3\\lib\\site-packages (from requests->geocoder) (3.0.4)\n",
      "Requirement already satisfied: idna<2.9,>=2.5 in c:\\programdata\\anaconda3\\lib\\site-packages (from requests->geocoder) (2.8)\n",
      "Requirement already satisfied: decorator in c:\\programdata\\anaconda3\\lib\\site-packages (from ratelim->geocoder) (4.4.1)\n"
     ]
    }
   ],
   "source": [
    "%run \"U:/Projects/Common_Functions/Geocode_Address.ipynb\""
   ]
  },
  {
   "cell_type": "markdown",
   "metadata": {},
   "source": [
    "## Main page with CoreLife Locations"
   ]
  },
  {
   "cell_type": "code",
   "execution_count": 4,
   "metadata": {},
   "outputs": [],
   "source": [
    "page = 'https://www.corelifeeatery.com/locations/'"
   ]
  },
  {
   "cell_type": "markdown",
   "metadata": {},
   "source": [
    "## Select City Entries from Soup"
   ]
  },
  {
   "cell_type": "code",
   "execution_count": 5,
   "metadata": {},
   "outputs": [],
   "source": [
    "soup = Turn_URL_into_Soup(page, javascript=False)\n",
    "\n",
    "locations = soup.select('.entry-content')"
   ]
  },
  {
   "cell_type": "markdown",
   "metadata": {},
   "source": [
    "## Process each Entry and extract Address Info"
   ]
  },
  {
   "cell_type": "code",
   "execution_count": 6,
   "metadata": {},
   "outputs": [
    {
     "name": "stdout",
     "output_type": "stream",
     "text": [
      "Wall time: 1min 18s\n"
     ]
    }
   ],
   "source": [
    "%%time\n",
    "\n",
    "data = []\n",
    "\n",
    "for location in locations:\n",
    "    \n",
    "    info = dict()\n",
    "    \n",
    "    info['city'] = location.a.string\n",
    "\n",
    "    try:\n",
    "        \n",
    "        address = location.p.next.next.next.string.strip()\n",
    "        m = re.match('(.*),\\s(\\w{2})[,\\s]+(\\d{5})', address)\n",
    "        info['street'] = location.p.next.string.strip()\n",
    "        info['city'], info['state'], info['zipcode'] = m.group(1), m.group(2), m.group(3)\n",
    "    \n",
    "    except:\n",
    "\n",
    "        address = location.p.next.next.next.next.next.next.next.string.strip()\n",
    "        m = re.match('(.*),\\s(\\w{2})[,\\s]+(\\d{5})', address)\n",
    "        info['street'] = location.p.next.next.next.next.next.string.strip()\n",
    "        info['city'], info['state'], info['zipcode'] = m.group(1), m.group(2), m.group(3)\n",
    "    \n",
    "    full_address = f\"{info['street']}, {info['city']}, {info['state']} {info['zipcode']}\"\n",
    "    info['latitude'], info['longitude'] = Geocode_Address(full_address, wait=1)\n",
    "    \n",
    "    data.append(info)"
   ]
  },
  {
   "cell_type": "markdown",
   "metadata": {},
   "source": [
    "## Convert to Pandas DataFrame"
   ]
  },
  {
   "cell_type": "code",
   "execution_count": 7,
   "metadata": {},
   "outputs": [],
   "source": [
    "df = pd.DataFrame(data)\n",
    "df['type'] = 'CoreLife'"
   ]
  },
  {
   "cell_type": "code",
   "execution_count": 8,
   "metadata": {},
   "outputs": [
    {
     "data": {
      "text/html": [
       "<div>\n",
       "<style scoped>\n",
       "    .dataframe tbody tr th:only-of-type {\n",
       "        vertical-align: middle;\n",
       "    }\n",
       "\n",
       "    .dataframe tbody tr th {\n",
       "        vertical-align: top;\n",
       "    }\n",
       "\n",
       "    .dataframe thead th {\n",
       "        text-align: right;\n",
       "    }\n",
       "</style>\n",
       "<table border=\"1\" class=\"dataframe\">\n",
       "  <thead>\n",
       "    <tr style=\"text-align: right;\">\n",
       "      <th></th>\n",
       "      <th>city</th>\n",
       "      <th>street</th>\n",
       "      <th>state</th>\n",
       "      <th>zipcode</th>\n",
       "      <th>latitude</th>\n",
       "      <th>longitude</th>\n",
       "      <th>type</th>\n",
       "    </tr>\n",
       "  </thead>\n",
       "  <tbody>\n",
       "    <tr>\n",
       "      <th>0</th>\n",
       "      <td>Allentown</td>\n",
       "      <td>833 North Krocks Rd, Suite 101</td>\n",
       "      <td>PA</td>\n",
       "      <td>18106</td>\n",
       "      <td>40.563454</td>\n",
       "      <td>-75.562741</td>\n",
       "      <td>CoreLife</td>\n",
       "    </tr>\n",
       "    <tr>\n",
       "      <th>1</th>\n",
       "      <td>American Fork</td>\n",
       "      <td>197 NW State Street</td>\n",
       "      <td>UT</td>\n",
       "      <td>84003</td>\n",
       "      <td>40.381365</td>\n",
       "      <td>-111.813989</td>\n",
       "      <td>CoreLife</td>\n",
       "    </tr>\n",
       "    <tr>\n",
       "      <th>2</th>\n",
       "      <td>Amherst</td>\n",
       "      <td>1595 Niagara Falls Boulevard</td>\n",
       "      <td>NY</td>\n",
       "      <td>14226</td>\n",
       "      <td>43.000019</td>\n",
       "      <td>-78.822306</td>\n",
       "      <td>CoreLife</td>\n",
       "    </tr>\n",
       "    <tr>\n",
       "      <th>3</th>\n",
       "      <td>Ann Arbor</td>\n",
       "      <td>205 North Maple Road, Suite 26</td>\n",
       "      <td>MI</td>\n",
       "      <td>48103</td>\n",
       "      <td>42.282659</td>\n",
       "      <td>-83.780447</td>\n",
       "      <td>CoreLife</td>\n",
       "    </tr>\n",
       "    <tr>\n",
       "      <th>4</th>\n",
       "      <td>Boardman</td>\n",
       "      <td>700 Boardman-Poland Road</td>\n",
       "      <td>OH</td>\n",
       "      <td>44512</td>\n",
       "      <td>41.024610</td>\n",
       "      <td>-80.642790</td>\n",
       "      <td>CoreLife</td>\n",
       "    </tr>\n",
       "  </tbody>\n",
       "</table>\n",
       "</div>"
      ],
      "text/plain": [
       "            city                          street state zipcode   latitude  \\\n",
       "0      Allentown  833 North Krocks Rd, Suite 101    PA   18106  40.563454   \n",
       "1  American Fork             197 NW State Street    UT   84003  40.381365   \n",
       "2        Amherst    1595 Niagara Falls Boulevard    NY   14226  43.000019   \n",
       "3      Ann Arbor  205 North Maple Road, Suite 26    MI   48103  42.282659   \n",
       "4       Boardman        700 Boardman-Poland Road    OH   44512  41.024610   \n",
       "\n",
       "    longitude      type  \n",
       "0  -75.562741  CoreLife  \n",
       "1 -111.813989  CoreLife  \n",
       "2  -78.822306  CoreLife  \n",
       "3  -83.780447  CoreLife  \n",
       "4  -80.642790  CoreLife  "
      ]
     },
     "execution_count": 8,
     "metadata": {},
     "output_type": "execute_result"
    }
   ],
   "source": [
    "df.head()"
   ]
  },
  {
   "cell_type": "markdown",
   "metadata": {},
   "source": [
    "## Save GeoPandas DataFrame"
   ]
  },
  {
   "cell_type": "code",
   "execution_count": 9,
   "metadata": {},
   "outputs": [],
   "source": [
    "gdf = gpd.GeoDataFrame(df, geometry=gpd.points_from_xy(df.longitude, df.latitude))\n",
    "gdf = gdf.reset_index().drop(columns=['index', 'latitude', 'longitude'])\n",
    "gdf.to_file(driver = 'ESRI Shapefile', filename = 'CoreLife_Coordinates.shp')"
   ]
  }
 ],
 "metadata": {
  "kernelspec": {
   "display_name": "Python 3",
   "language": "python",
   "name": "python3"
  },
  "language_info": {
   "codemirror_mode": {
    "name": "ipython",
    "version": 3
   },
   "file_extension": ".py",
   "mimetype": "text/x-python",
   "name": "python",
   "nbconvert_exporter": "python",
   "pygments_lexer": "ipython3",
   "version": "3.6.9"
  }
 },
 "nbformat": 4,
 "nbformat_minor": 2
}
